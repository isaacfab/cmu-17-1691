{
 "cells": [
  {
   "cell_type": "markdown",
   "id": "4e2f87e9-0587-43ef-8e62-0624986e2060",
   "metadata": {},
   "source": [
    "# Machine Learning with Python - Heuristics\n",
    "Many times a simple rule-of-thumb performs better than advanced ML\n",
    "\n",
    "### Human Learn\n",
    "Super clever library to manage huristic models like ML scikit-learn models"
   ]
  },
  {
   "cell_type": "code",
   "execution_count": 1,
   "id": "0ac1d065-da86-45da-904e-3c9599a9d4ef",
   "metadata": {
    "tags": []
   },
   "outputs": [
    {
     "name": "stdout",
     "output_type": "stream",
     "text": [
      "Collecting human-learn\n",
      "  Downloading human_learn-0.3.2-py2.py3-none-any.whl (116 kB)\n",
      "\u001b[2K     \u001b[90m━━━━━━━━━━━━━━━━━━━━━━━━━━━━━━━━━━━━━━━\u001b[0m \u001b[32m116.5/116.5 kB\u001b[0m \u001b[31m2.2 MB/s\u001b[0m eta \u001b[36m0:00:00\u001b[0ma \u001b[36m0:00:01\u001b[0m\n",
      "\u001b[?25hCollecting Shapely>=1.7.1\n",
      "  Downloading shapely-2.0.1-cp310-cp310-manylinux_2_17_x86_64.manylinux2014_x86_64.whl (2.3 MB)\n",
      "\u001b[2K     \u001b[90m━━━━━━━━━━━━━━━━━━━━━━━━━━━━━━━━━━━━━━━━\u001b[0m \u001b[32m2.3/2.3 MB\u001b[0m \u001b[31m5.0 MB/s\u001b[0m eta \u001b[36m0:00:00\u001b[0m00:01\u001b[0m00:01\u001b[0m\n",
      "\u001b[?25hRequirement already satisfied: bokeh<3.0.0,>=2.2.1 in /opt/conda/lib/python3.10/site-packages (from human-learn) (2.4.3)\n",
      "Requirement already satisfied: pandas>=0.23.4 in /opt/conda/lib/python3.10/site-packages (from human-learn) (1.5.3)\n",
      "Collecting clumper<0.3.0,>=0.2.5\n",
      "  Downloading clumper-0.2.15-py2.py3-none-any.whl (18 kB)\n",
      "Requirement already satisfied: scikit-learn>=0.23.2 in /opt/conda/lib/python3.10/site-packages (from human-learn) (1.2.1)\n",
      "Requirement already satisfied: Jinja2>=2.9 in /opt/conda/lib/python3.10/site-packages (from bokeh<3.0.0,>=2.2.1->human-learn) (3.1.2)\n",
      "Requirement already satisfied: tornado>=5.1 in /opt/conda/lib/python3.10/site-packages (from bokeh<3.0.0,>=2.2.1->human-learn) (6.2)\n",
      "Requirement already satisfied: packaging>=16.8 in /opt/conda/lib/python3.10/site-packages (from bokeh<3.0.0,>=2.2.1->human-learn) (23.0)\n",
      "Requirement already satisfied: numpy>=1.11.3 in /opt/conda/lib/python3.10/site-packages (from bokeh<3.0.0,>=2.2.1->human-learn) (1.23.5)\n",
      "Requirement already satisfied: pillow>=7.1.0 in /opt/conda/lib/python3.10/site-packages (from bokeh<3.0.0,>=2.2.1->human-learn) (9.4.0)\n",
      "Requirement already satisfied: typing-extensions>=3.10.0 in /opt/conda/lib/python3.10/site-packages (from bokeh<3.0.0,>=2.2.1->human-learn) (4.4.0)\n",
      "Requirement already satisfied: PyYAML>=3.10 in /opt/conda/lib/python3.10/site-packages (from bokeh<3.0.0,>=2.2.1->human-learn) (6.0)\n",
      "Requirement already satisfied: python-dateutil>=2.8.1 in /opt/conda/lib/python3.10/site-packages (from pandas>=0.23.4->human-learn) (2.8.2)\n",
      "Requirement already satisfied: pytz>=2020.1 in /opt/conda/lib/python3.10/site-packages (from pandas>=0.23.4->human-learn) (2022.7.1)\n",
      "Requirement already satisfied: joblib>=1.1.1 in /opt/conda/lib/python3.10/site-packages (from scikit-learn>=0.23.2->human-learn) (1.2.0)\n",
      "Requirement already satisfied: scipy>=1.3.2 in /opt/conda/lib/python3.10/site-packages (from scikit-learn>=0.23.2->human-learn) (1.10.1)\n",
      "Requirement already satisfied: threadpoolctl>=2.0.0 in /opt/conda/lib/python3.10/site-packages (from scikit-learn>=0.23.2->human-learn) (3.1.0)\n",
      "Requirement already satisfied: MarkupSafe>=2.0 in /opt/conda/lib/python3.10/site-packages (from Jinja2>=2.9->bokeh<3.0.0,>=2.2.1->human-learn) (2.1.2)\n",
      "Requirement already satisfied: six>=1.5 in /opt/conda/lib/python3.10/site-packages (from python-dateutil>=2.8.1->pandas>=0.23.4->human-learn) (1.16.0)\n",
      "Installing collected packages: clumper, Shapely, human-learn\n",
      "Successfully installed Shapely-2.0.1 clumper-0.2.15 human-learn-0.3.2\n"
     ]
    }
   ],
   "source": [
    "# need to install this now becasue it isn't in the container.\n",
    "!pip install human-learn"
   ]
  },
  {
   "cell_type": "code",
   "execution_count": 2,
   "id": "f8de556d-9cdb-4e21-84b2-ada1fdf4d9f4",
   "metadata": {
    "tags": []
   },
   "outputs": [],
   "source": [
    "import pandas as pd\n",
    "import numpy as np\n",
    "\n",
    "from sklearn.model_selection import train_test_split\n",
    "\n",
    "#read in our titanic data\n",
    "df_og = pd.read_csv('data/train.csv') "
   ]
  },
  {
   "cell_type": "code",
   "execution_count": 3,
   "id": "d0a09220-4190-434b-8966-d97418126fb1",
   "metadata": {
    "tags": []
   },
   "outputs": [
    {
     "data": {
      "text/html": [
       "<div>\n",
       "<style scoped>\n",
       "    .dataframe tbody tr th:only-of-type {\n",
       "        vertical-align: middle;\n",
       "    }\n",
       "\n",
       "    .dataframe tbody tr th {\n",
       "        vertical-align: top;\n",
       "    }\n",
       "\n",
       "    .dataframe thead th {\n",
       "        text-align: right;\n",
       "    }\n",
       "</style>\n",
       "<table border=\"1\" class=\"dataframe\">\n",
       "  <thead>\n",
       "    <tr style=\"text-align: right;\">\n",
       "      <th></th>\n",
       "      <th>PassengerId</th>\n",
       "      <th>Survived</th>\n",
       "      <th>Pclass</th>\n",
       "      <th>Name</th>\n",
       "      <th>Sex</th>\n",
       "      <th>Age</th>\n",
       "      <th>SibSp</th>\n",
       "      <th>Parch</th>\n",
       "      <th>Ticket</th>\n",
       "      <th>Fare</th>\n",
       "      <th>Cabin</th>\n",
       "      <th>Embarked</th>\n",
       "    </tr>\n",
       "  </thead>\n",
       "  <tbody>\n",
       "    <tr>\n",
       "      <th>0</th>\n",
       "      <td>1</td>\n",
       "      <td>0</td>\n",
       "      <td>3</td>\n",
       "      <td>Braund, Mr. Owen Harris</td>\n",
       "      <td>male</td>\n",
       "      <td>22.0</td>\n",
       "      <td>1</td>\n",
       "      <td>0</td>\n",
       "      <td>A/5 21171</td>\n",
       "      <td>7.2500</td>\n",
       "      <td>NaN</td>\n",
       "      <td>S</td>\n",
       "    </tr>\n",
       "    <tr>\n",
       "      <th>1</th>\n",
       "      <td>2</td>\n",
       "      <td>1</td>\n",
       "      <td>1</td>\n",
       "      <td>Cumings, Mrs. John Bradley (Florence Briggs Th...</td>\n",
       "      <td>female</td>\n",
       "      <td>38.0</td>\n",
       "      <td>1</td>\n",
       "      <td>0</td>\n",
       "      <td>PC 17599</td>\n",
       "      <td>71.2833</td>\n",
       "      <td>C85</td>\n",
       "      <td>C</td>\n",
       "    </tr>\n",
       "    <tr>\n",
       "      <th>2</th>\n",
       "      <td>3</td>\n",
       "      <td>1</td>\n",
       "      <td>3</td>\n",
       "      <td>Heikkinen, Miss. Laina</td>\n",
       "      <td>female</td>\n",
       "      <td>26.0</td>\n",
       "      <td>0</td>\n",
       "      <td>0</td>\n",
       "      <td>STON/O2. 3101282</td>\n",
       "      <td>7.9250</td>\n",
       "      <td>NaN</td>\n",
       "      <td>S</td>\n",
       "    </tr>\n",
       "    <tr>\n",
       "      <th>3</th>\n",
       "      <td>4</td>\n",
       "      <td>1</td>\n",
       "      <td>1</td>\n",
       "      <td>Futrelle, Mrs. Jacques Heath (Lily May Peel)</td>\n",
       "      <td>female</td>\n",
       "      <td>35.0</td>\n",
       "      <td>1</td>\n",
       "      <td>0</td>\n",
       "      <td>113803</td>\n",
       "      <td>53.1000</td>\n",
       "      <td>C123</td>\n",
       "      <td>S</td>\n",
       "    </tr>\n",
       "    <tr>\n",
       "      <th>4</th>\n",
       "      <td>5</td>\n",
       "      <td>0</td>\n",
       "      <td>3</td>\n",
       "      <td>Allen, Mr. William Henry</td>\n",
       "      <td>male</td>\n",
       "      <td>35.0</td>\n",
       "      <td>0</td>\n",
       "      <td>0</td>\n",
       "      <td>373450</td>\n",
       "      <td>8.0500</td>\n",
       "      <td>NaN</td>\n",
       "      <td>S</td>\n",
       "    </tr>\n",
       "  </tbody>\n",
       "</table>\n",
       "</div>"
      ],
      "text/plain": [
       "   PassengerId  Survived  Pclass  \\\n",
       "0            1         0       3   \n",
       "1            2         1       1   \n",
       "2            3         1       3   \n",
       "3            4         1       1   \n",
       "4            5         0       3   \n",
       "\n",
       "                                                Name     Sex   Age  SibSp  \\\n",
       "0                            Braund, Mr. Owen Harris    male  22.0      1   \n",
       "1  Cumings, Mrs. John Bradley (Florence Briggs Th...  female  38.0      1   \n",
       "2                             Heikkinen, Miss. Laina  female  26.0      0   \n",
       "3       Futrelle, Mrs. Jacques Heath (Lily May Peel)  female  35.0      1   \n",
       "4                           Allen, Mr. William Henry    male  35.0      0   \n",
       "\n",
       "   Parch            Ticket     Fare Cabin Embarked  \n",
       "0      0         A/5 21171   7.2500   NaN        S  \n",
       "1      0          PC 17599  71.2833   C85        C  \n",
       "2      0  STON/O2. 3101282   7.9250   NaN        S  \n",
       "3      0            113803  53.1000  C123        S  \n",
       "4      0            373450   8.0500   NaN        S  "
      ]
     },
     "execution_count": 3,
     "metadata": {},
     "output_type": "execute_result"
    }
   ],
   "source": [
    "df_og.head()"
   ]
  },
  {
   "cell_type": "code",
   "execution_count": 4,
   "id": "37845a91-c231-43ee-a2c5-00f1aea2f11d",
   "metadata": {
    "tags": []
   },
   "outputs": [
    {
     "name": "stdout",
     "output_type": "stream",
     "text": [
      "size of X_train\n",
      "(596, 7)\n",
      "size of X_test\n",
      "(295, 7)\n"
     ]
    }
   ],
   "source": [
    "#split the data set into train and test sets remove any non-numeric columns for the example\n",
    "X, y = df_og.drop(columns=['PassengerId','Name','Ticket','Cabin','Embarked']), df_og['Survived']\n",
    "\n",
    "X_train, X_test, y_train, y_test = train_test_split(X, y, test_size=0.33, random_state=42)\n",
    "\n",
    "print('size of X_train') \n",
    "print(X_train.shape)\n",
    "print('size of X_test')\n",
    "print(X_test.shape)"
   ]
  },
  {
   "cell_type": "code",
   "execution_count": 5,
   "id": "11764a0a-6254-4f78-9cbe-e5d6ad5a9545",
   "metadata": {
    "tags": []
   },
   "outputs": [
    {
     "data": {
      "text/html": [
       "<div>\n",
       "<style scoped>\n",
       "    .dataframe tbody tr th:only-of-type {\n",
       "        vertical-align: middle;\n",
       "    }\n",
       "\n",
       "    .dataframe tbody tr th {\n",
       "        vertical-align: top;\n",
       "    }\n",
       "\n",
       "    .dataframe thead th {\n",
       "        text-align: right;\n",
       "    }\n",
       "</style>\n",
       "<table border=\"1\" class=\"dataframe\">\n",
       "  <thead>\n",
       "    <tr style=\"text-align: right;\">\n",
       "      <th></th>\n",
       "      <th>Survived</th>\n",
       "      <th>Pclass</th>\n",
       "      <th>Sex</th>\n",
       "      <th>Age</th>\n",
       "      <th>SibSp</th>\n",
       "      <th>Parch</th>\n",
       "      <th>Fare</th>\n",
       "    </tr>\n",
       "  </thead>\n",
       "  <tbody>\n",
       "    <tr>\n",
       "      <th>6</th>\n",
       "      <td>0</td>\n",
       "      <td>1</td>\n",
       "      <td>male</td>\n",
       "      <td>54.0</td>\n",
       "      <td>0</td>\n",
       "      <td>0</td>\n",
       "      <td>51.8625</td>\n",
       "    </tr>\n",
       "    <tr>\n",
       "      <th>718</th>\n",
       "      <td>0</td>\n",
       "      <td>3</td>\n",
       "      <td>male</td>\n",
       "      <td>NaN</td>\n",
       "      <td>0</td>\n",
       "      <td>0</td>\n",
       "      <td>15.5000</td>\n",
       "    </tr>\n",
       "    <tr>\n",
       "      <th>685</th>\n",
       "      <td>0</td>\n",
       "      <td>2</td>\n",
       "      <td>male</td>\n",
       "      <td>25.0</td>\n",
       "      <td>1</td>\n",
       "      <td>2</td>\n",
       "      <td>41.5792</td>\n",
       "    </tr>\n",
       "    <tr>\n",
       "      <th>73</th>\n",
       "      <td>0</td>\n",
       "      <td>3</td>\n",
       "      <td>male</td>\n",
       "      <td>26.0</td>\n",
       "      <td>1</td>\n",
       "      <td>0</td>\n",
       "      <td>14.4542</td>\n",
       "    </tr>\n",
       "    <tr>\n",
       "      <th>882</th>\n",
       "      <td>0</td>\n",
       "      <td>3</td>\n",
       "      <td>female</td>\n",
       "      <td>22.0</td>\n",
       "      <td>0</td>\n",
       "      <td>0</td>\n",
       "      <td>10.5167</td>\n",
       "    </tr>\n",
       "  </tbody>\n",
       "</table>\n",
       "</div>"
      ],
      "text/plain": [
       "     Survived  Pclass     Sex   Age  SibSp  Parch     Fare\n",
       "6           0       1    male  54.0      0      0  51.8625\n",
       "718         0       3    male   NaN      0      0  15.5000\n",
       "685         0       2    male  25.0      1      2  41.5792\n",
       "73          0       3    male  26.0      1      0  14.4542\n",
       "882         0       3  female  22.0      0      0  10.5167"
      ]
     },
     "execution_count": 5,
     "metadata": {},
     "output_type": "execute_result"
    }
   ],
   "source": [
    "X_train.head()\n"
   ]
  },
  {
   "cell_type": "code",
   "execution_count": 6,
   "id": "704eee3c-b694-409e-ab40-0ca01dd5cd2c",
   "metadata": {
    "tags": []
   },
   "outputs": [
    {
     "data": {
      "text/plain": [
       "0.3724832214765101"
      ]
     },
     "execution_count": 6,
     "metadata": {},
     "output_type": "execute_result"
    }
   ],
   "source": [
    "X_train['Survived'].mean()"
   ]
  },
  {
   "cell_type": "markdown",
   "id": "45526664-7679-47c3-ab99-20096f6b8a75",
   "metadata": {},
   "source": [
    "The human learn package provides a number of methods to visually explore the data"
   ]
  },
  {
   "cell_type": "code",
   "execution_count": 7,
   "id": "8cfdbe79-f494-4d15-a78b-38512eeea2cb",
   "metadata": {
    "tags": []
   },
   "outputs": [
    {
     "data": {
      "text/plain": [
       "Sex     Pclass\n",
       "female  1         0.949153\n",
       "        2         0.979167\n",
       "        3         0.464646\n",
       "male    1         0.315789\n",
       "        2         0.181818\n",
       "        3         0.147679\n",
       "Name: Survived, dtype: float64"
      ]
     },
     "execution_count": 7,
     "metadata": {},
     "output_type": "execute_result"
    }
   ],
   "source": [
    "(X_train.groupby([\"Sex\",\"Pclass\"])\n",
    " .Survived\n",
    " .mean())"
   ]
  },
  {
   "cell_type": "code",
   "execution_count": 8,
   "id": "368faf4a-b6f7-48fe-b8c9-455fd6a08113",
   "metadata": {
    "tags": []
   },
   "outputs": [
    {
     "data": {
      "text/plain": [
       "Sex     Pclass\n",
       "female  1          59\n",
       "        2          48\n",
       "        3          99\n",
       "male    1          76\n",
       "        2          77\n",
       "        3         237\n",
       "Name: Survived, dtype: int64"
      ]
     },
     "execution_count": 8,
     "metadata": {},
     "output_type": "execute_result"
    }
   ],
   "source": [
    "(X_train.groupby([\"Sex\",\"Pclass\"])\n",
    " .Survived\n",
    " .count())"
   ]
  },
  {
   "cell_type": "code",
   "execution_count": 9,
   "id": "0c1237ce-ed2e-4e6e-87bb-8d51d8b33df7",
   "metadata": {
    "tags": []
   },
   "outputs": [
    {
     "data": {
      "text/plain": [
       "<Axes: >"
      ]
     },
     "execution_count": 9,
     "metadata": {},
     "output_type": "execute_result"
    },
    {
     "data": {
      "image/png": "[encoded data removed]",
      "text/plain": [
       "<Figure size 640x480 with 1 Axes>"
      ]
     },
     "metadata": {},
     "output_type": "display_data"
    }
   ],
   "source": [
    "X_train[X_train['Survived']==1]['Age'].hist()"
   ]
  },
  {
   "cell_type": "code",
   "execution_count": 10,
   "id": "1de2350f-241e-499c-b528-9690de1b6ec9",
   "metadata": {
    "tags": []
   },
   "outputs": [
    {
     "data": {
      "text/plain": [
       "<Axes: >"
      ]
     },
     "execution_count": 10,
     "metadata": {},
     "output_type": "execute_result"
    },
    {
     "data": {
      "image/png": "[encoded data removed]",
      "text/plain": [
       "<Figure size 640x480 with 1 Axes>"
      ]
     },
     "metadata": {},
     "output_type": "display_data"
    }
   ],
   "source": [
    "X_train[X_train['Survived']==0]['Age'].hist()"
   ]
  },
  {
   "cell_type": "code",
   "execution_count": 11,
   "id": "84608440-3cf2-4f94-8cf2-e8541e4ac67d",
   "metadata": {
    "tags": []
   },
   "outputs": [],
   "source": [
    "from hulearn.classification import FunctionClassifier\n",
    "#with this information I'm going to build a function that uses a heuristic to predic\n",
    "def sex_pclass(dataf):\n",
    "    \"\"\"\n",
    "    The assumption is that women survive\n",
    "    \"\"\"\n",
    "    \n",
    "    women_rule = (dataf['Pclass'] < 3.0) & (dataf['Sex'] == 'female')\n",
    "    pred =  women_rule\n",
    "    \n",
    "    return np.array(pred).astype(int)\n",
    "\n",
    "heuristic_model = FunctionClassifier(sex_pclass)"
   ]
  },
  {
   "cell_type": "code",
   "execution_count": 12,
   "id": "c8e9f274-2fc7-4853-8084-982582a618d6",
   "metadata": {
    "tags": []
   },
   "outputs": [
    {
     "data": {
      "text/plain": [
       "array([0, 0, 0, 0, 0, 0, 0, 0, 0, 0])"
      ]
     },
     "execution_count": 12,
     "metadata": {},
     "output_type": "execute_result"
    }
   ],
   "source": [
    "sex_pclass(X_train)[0:10]"
   ]
  },
  {
   "cell_type": "code",
   "execution_count": 13,
   "id": "6e14a5c8-7ba5-4824-90f6-605191b2559b",
   "metadata": {
    "tags": []
   },
   "outputs": [
    {
     "name": "stdout",
     "output_type": "stream",
     "text": [
      "accuray:0.7936241610738255\n"
     ]
    }
   ],
   "source": [
    "from sklearn.metrics import accuracy_score\n",
    "\n",
    "preds = heuristic_model.fit(X_train, y_train).predict(X_train)\n",
    "\n",
    "print(('accuray:' + str(accuracy_score(y_train, preds))))"
   ]
  },
  {
   "cell_type": "code",
   "execution_count": 14,
   "id": "9be87f14-75df-43c8-8f8b-84139495fdaf",
   "metadata": {
    "tags": []
   },
   "outputs": [
    {
     "name": "stdout",
     "output_type": "stream",
     "text": [
      "accuray:0.7728813559322034\n"
     ]
    }
   ],
   "source": [
    "#now see how the rule works on the hold out test set\n",
    "preds = heuristic_model.fit(X_train, y_train).predict(X_test)\n",
    "\n",
    "print(('accuray:' + str(accuracy_score(y_test, preds))))"
   ]
  },
  {
   "cell_type": "markdown",
   "id": "69100f3c-535b-4f8e-b895-d51876f6ee9b",
   "metadata": {},
   "source": [
    "## Create a heuristic that improves on this performance \n",
    "\n",
    "* add several more [metrics from sklearn](https://scikit-learn.org/stable/modules/model_evaluation.html) including precision, recall, and a confusion matrix\n",
    "* hint: historically who did they try to save on the titanic?\n"
   ]
  },
  {
   "cell_type": "code",
   "execution_count": 29,
   "id": "e2f90e4b-4fb3-44c2-969c-0d12b6517254",
   "metadata": {
    "tags": []
   },
   "outputs": [],
   "source": [
    "def high_pclass(dataf):\n",
    "    \"\"\"\n",
    "    The assumption is that women survive\n",
    "    \"\"\"\n",
    "    \n",
    "    class_rule = ((dataf['Age'] < 10.0) | (dataf['Sex'] == 'female'))\n",
    "    pred =  class_rule\n",
    "    \n",
    "    return np.array(pred).astype(int)\n",
    "\n",
    "heuristic_model_2 = FunctionClassifier(high_pclass)"
   ]
  },
  {
   "cell_type": "code",
   "execution_count": 30,
   "id": "b60e3b62-6ea0-4863-b89a-46103206a2dc",
   "metadata": {
    "tags": []
   },
   "outputs": [
    {
     "name": "stdout",
     "output_type": "stream",
     "text": [
      "accuray:0.7869127516778524\n"
     ]
    }
   ],
   "source": [
    "preds_train = heuristic_model_2.fit(X_train, y_train).predict(X_train)\n",
    "\n",
    "print(('accuray:' + str(accuracy_score(y_train, preds_train))))"
   ]
  },
  {
   "cell_type": "code",
   "execution_count": 31,
   "id": "056f8f3a-7f15-4b24-9cf6-8664a4909ec4",
   "metadata": {
    "tags": []
   },
   "outputs": [
    {
     "name": "stdout",
     "output_type": "stream",
     "text": [
      "accuray:0.8067796610169492\n"
     ]
    }
   ],
   "source": [
    "#now see how the rule works on the hold out test set\n",
    "preds_test = heuristic_model_2.fit(X_train, y_train).predict(X_test)\n",
    "\n",
    "print(('accuray:' + str(accuracy_score(y_test, preds_test))))"
   ]
  }
 ],
 "metadata": {
  "kernelspec": {
   "display_name": "Python 3 (ipykernel)",
   "language": "python",
   "name": "python3"
  },
  "language_info": {
   "codemirror_mode": {
    "name": "ipython",
    "version": 3
   },
   "file_extension": ".py",
   "mimetype": "text/x-python",
   "name": "python",
   "nbconvert_exporter": "python",
   "pygments_lexer": "ipython3",
   "version": "3.10.9"
  }
 },
 "nbformat": 4,
 "nbformat_minor": 5
}
